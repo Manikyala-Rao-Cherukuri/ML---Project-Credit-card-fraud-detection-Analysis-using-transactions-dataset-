{
 "cells": [
  {
   "cell_type": "markdown",
   "id": "f7cda9a3",
   "metadata": {},
   "source": [
    "# Credit card fraud detection Analysis using transactions dataset"
   ]
  },
  {
   "cell_type": "code",
   "execution_count": 135,
   "id": "ab1d6b30",
   "metadata": {},
   "outputs": [],
   "source": [
    "# Dataset reference: https://www.kaggle.com/datasets/mlg-ulb/creditcardfraud"
   ]
  },
  {
   "cell_type": "code",
   "execution_count": 136,
   "id": "14b70db7",
   "metadata": {},
   "outputs": [],
   "source": [
    "import numpy as np\n",
    "import pandas as pd\n",
    "import matplotlib.pyplot as plt\n",
    "import seaborn as sns"
   ]
  },
  {
   "cell_type": "code",
   "execution_count": 137,
   "id": "e8c2b088",
   "metadata": {},
   "outputs": [],
   "source": [
    "dataset = pd.read_csv('creditcard.csv')"
   ]
  },
  {
   "cell_type": "code",
   "execution_count": 138,
   "id": "7d0fc0cb",
   "metadata": {},
   "outputs": [
    {
     "data": {
      "text/html": [
       "<div>\n",
       "<style scoped>\n",
       "    .dataframe tbody tr th:only-of-type {\n",
       "        vertical-align: middle;\n",
       "    }\n",
       "\n",
       "    .dataframe tbody tr th {\n",
       "        vertical-align: top;\n",
       "    }\n",
       "\n",
       "    .dataframe thead th {\n",
       "        text-align: right;\n",
       "    }\n",
       "</style>\n",
       "<table border=\"1\" class=\"dataframe\">\n",
       "  <thead>\n",
       "    <tr style=\"text-align: right;\">\n",
       "      <th></th>\n",
       "      <th>Time</th>\n",
       "      <th>V1</th>\n",
       "      <th>V2</th>\n",
       "      <th>V3</th>\n",
       "      <th>V4</th>\n",
       "      <th>V5</th>\n",
       "      <th>V6</th>\n",
       "      <th>V7</th>\n",
       "      <th>V8</th>\n",
       "      <th>V9</th>\n",
       "      <th>...</th>\n",
       "      <th>V21</th>\n",
       "      <th>V22</th>\n",
       "      <th>V23</th>\n",
       "      <th>V24</th>\n",
       "      <th>V25</th>\n",
       "      <th>V26</th>\n",
       "      <th>V27</th>\n",
       "      <th>V28</th>\n",
       "      <th>Amount</th>\n",
       "      <th>Class</th>\n",
       "    </tr>\n",
       "  </thead>\n",
       "  <tbody>\n",
       "    <tr>\n",
       "      <th>0</th>\n",
       "      <td>0.0</td>\n",
       "      <td>-1.359807</td>\n",
       "      <td>-0.072781</td>\n",
       "      <td>2.536347</td>\n",
       "      <td>1.378155</td>\n",
       "      <td>-0.338321</td>\n",
       "      <td>0.462388</td>\n",
       "      <td>0.239599</td>\n",
       "      <td>0.098698</td>\n",
       "      <td>0.363787</td>\n",
       "      <td>...</td>\n",
       "      <td>-0.018307</td>\n",
       "      <td>0.277838</td>\n",
       "      <td>-0.110474</td>\n",
       "      <td>0.066928</td>\n",
       "      <td>0.128539</td>\n",
       "      <td>-0.189115</td>\n",
       "      <td>0.133558</td>\n",
       "      <td>-0.021053</td>\n",
       "      <td>149.62</td>\n",
       "      <td>0</td>\n",
       "    </tr>\n",
       "    <tr>\n",
       "      <th>1</th>\n",
       "      <td>0.0</td>\n",
       "      <td>1.191857</td>\n",
       "      <td>0.266151</td>\n",
       "      <td>0.166480</td>\n",
       "      <td>0.448154</td>\n",
       "      <td>0.060018</td>\n",
       "      <td>-0.082361</td>\n",
       "      <td>-0.078803</td>\n",
       "      <td>0.085102</td>\n",
       "      <td>-0.255425</td>\n",
       "      <td>...</td>\n",
       "      <td>-0.225775</td>\n",
       "      <td>-0.638672</td>\n",
       "      <td>0.101288</td>\n",
       "      <td>-0.339846</td>\n",
       "      <td>0.167170</td>\n",
       "      <td>0.125895</td>\n",
       "      <td>-0.008983</td>\n",
       "      <td>0.014724</td>\n",
       "      <td>2.69</td>\n",
       "      <td>0</td>\n",
       "    </tr>\n",
       "    <tr>\n",
       "      <th>2</th>\n",
       "      <td>1.0</td>\n",
       "      <td>-1.358354</td>\n",
       "      <td>-1.340163</td>\n",
       "      <td>1.773209</td>\n",
       "      <td>0.379780</td>\n",
       "      <td>-0.503198</td>\n",
       "      <td>1.800499</td>\n",
       "      <td>0.791461</td>\n",
       "      <td>0.247676</td>\n",
       "      <td>-1.514654</td>\n",
       "      <td>...</td>\n",
       "      <td>0.247998</td>\n",
       "      <td>0.771679</td>\n",
       "      <td>0.909412</td>\n",
       "      <td>-0.689281</td>\n",
       "      <td>-0.327642</td>\n",
       "      <td>-0.139097</td>\n",
       "      <td>-0.055353</td>\n",
       "      <td>-0.059752</td>\n",
       "      <td>378.66</td>\n",
       "      <td>0</td>\n",
       "    </tr>\n",
       "    <tr>\n",
       "      <th>3</th>\n",
       "      <td>1.0</td>\n",
       "      <td>-0.966272</td>\n",
       "      <td>-0.185226</td>\n",
       "      <td>1.792993</td>\n",
       "      <td>-0.863291</td>\n",
       "      <td>-0.010309</td>\n",
       "      <td>1.247203</td>\n",
       "      <td>0.237609</td>\n",
       "      <td>0.377436</td>\n",
       "      <td>-1.387024</td>\n",
       "      <td>...</td>\n",
       "      <td>-0.108300</td>\n",
       "      <td>0.005274</td>\n",
       "      <td>-0.190321</td>\n",
       "      <td>-1.175575</td>\n",
       "      <td>0.647376</td>\n",
       "      <td>-0.221929</td>\n",
       "      <td>0.062723</td>\n",
       "      <td>0.061458</td>\n",
       "      <td>123.50</td>\n",
       "      <td>0</td>\n",
       "    </tr>\n",
       "    <tr>\n",
       "      <th>4</th>\n",
       "      <td>2.0</td>\n",
       "      <td>-1.158233</td>\n",
       "      <td>0.877737</td>\n",
       "      <td>1.548718</td>\n",
       "      <td>0.403034</td>\n",
       "      <td>-0.407193</td>\n",
       "      <td>0.095921</td>\n",
       "      <td>0.592941</td>\n",
       "      <td>-0.270533</td>\n",
       "      <td>0.817739</td>\n",
       "      <td>...</td>\n",
       "      <td>-0.009431</td>\n",
       "      <td>0.798278</td>\n",
       "      <td>-0.137458</td>\n",
       "      <td>0.141267</td>\n",
       "      <td>-0.206010</td>\n",
       "      <td>0.502292</td>\n",
       "      <td>0.219422</td>\n",
       "      <td>0.215153</td>\n",
       "      <td>69.99</td>\n",
       "      <td>0</td>\n",
       "    </tr>\n",
       "  </tbody>\n",
       "</table>\n",
       "<p>5 rows × 31 columns</p>\n",
       "</div>"
      ],
      "text/plain": [
       "   Time        V1        V2        V3        V4        V5        V6        V7  \\\n",
       "0   0.0 -1.359807 -0.072781  2.536347  1.378155 -0.338321  0.462388  0.239599   \n",
       "1   0.0  1.191857  0.266151  0.166480  0.448154  0.060018 -0.082361 -0.078803   \n",
       "2   1.0 -1.358354 -1.340163  1.773209  0.379780 -0.503198  1.800499  0.791461   \n",
       "3   1.0 -0.966272 -0.185226  1.792993 -0.863291 -0.010309  1.247203  0.237609   \n",
       "4   2.0 -1.158233  0.877737  1.548718  0.403034 -0.407193  0.095921  0.592941   \n",
       "\n",
       "         V8        V9  ...       V21       V22       V23       V24       V25  \\\n",
       "0  0.098698  0.363787  ... -0.018307  0.277838 -0.110474  0.066928  0.128539   \n",
       "1  0.085102 -0.255425  ... -0.225775 -0.638672  0.101288 -0.339846  0.167170   \n",
       "2  0.247676 -1.514654  ...  0.247998  0.771679  0.909412 -0.689281 -0.327642   \n",
       "3  0.377436 -1.387024  ... -0.108300  0.005274 -0.190321 -1.175575  0.647376   \n",
       "4 -0.270533  0.817739  ... -0.009431  0.798278 -0.137458  0.141267 -0.206010   \n",
       "\n",
       "        V26       V27       V28  Amount  Class  \n",
       "0 -0.189115  0.133558 -0.021053  149.62      0  \n",
       "1  0.125895 -0.008983  0.014724    2.69      0  \n",
       "2 -0.139097 -0.055353 -0.059752  378.66      0  \n",
       "3 -0.221929  0.062723  0.061458  123.50      0  \n",
       "4  0.502292  0.219422  0.215153   69.99      0  \n",
       "\n",
       "[5 rows x 31 columns]"
      ]
     },
     "execution_count": 138,
     "metadata": {},
     "output_type": "execute_result"
    }
   ],
   "source": [
    "dataset.head()"
   ]
  },
  {
   "cell_type": "code",
   "execution_count": 139,
   "id": "d5278d83",
   "metadata": {},
   "outputs": [
    {
     "data": {
      "text/plain": [
       "(284807, 31)"
      ]
     },
     "execution_count": 139,
     "metadata": {},
     "output_type": "execute_result"
    }
   ],
   "source": [
    "#To know the no.of rows and columns\n",
    "dataset.shape"
   ]
  },
  {
   "cell_type": "code",
   "execution_count": 140,
   "id": "5b33d151",
   "metadata": {},
   "outputs": [
    {
     "data": {
      "text/plain": [
       "Time      0\n",
       "V1        0\n",
       "V2        0\n",
       "V3        0\n",
       "V4        0\n",
       "V5        0\n",
       "V6        0\n",
       "V7        0\n",
       "V8        0\n",
       "V9        0\n",
       "V10       0\n",
       "V11       0\n",
       "V12       0\n",
       "V13       0\n",
       "V14       0\n",
       "V15       0\n",
       "V16       0\n",
       "V17       0\n",
       "V18       0\n",
       "V19       0\n",
       "V20       0\n",
       "V21       0\n",
       "V22       0\n",
       "V23       0\n",
       "V24       0\n",
       "V25       0\n",
       "V26       0\n",
       "V27       0\n",
       "V28       0\n",
       "Amount    0\n",
       "Class     0\n",
       "dtype: int64"
      ]
     },
     "execution_count": 140,
     "metadata": {},
     "output_type": "execute_result"
    }
   ],
   "source": [
    "# To check if there is any null values in dataset\n",
    "dataset.isna().sum()"
   ]
  },
  {
   "cell_type": "code",
   "execution_count": 141,
   "id": "8297dae7",
   "metadata": {},
   "outputs": [
    {
     "data": {
      "text/plain": [
       "0    284315\n",
       "1       492\n",
       "Name: Class, dtype: int64"
      ]
     },
     "execution_count": 141,
     "metadata": {},
     "output_type": "execute_result"
    }
   ],
   "source": [
    "#counting the distinct values in dependent variable i.e.,Class\n",
    "pd.value_counts(dataset['Class'])"
   ]
  },
  {
   "cell_type": "code",
   "execution_count": 142,
   "id": "929032c7",
   "metadata": {},
   "outputs": [
    {
     "name": "stderr",
     "output_type": "stream",
     "text": [
      "C:\\Users\\91954\\anaconda3\\lib\\site-packages\\seaborn\\_decorators.py:36: FutureWarning: Pass the following variable as a keyword arg: x. From version 0.12, the only valid positional argument will be `data`, and passing other arguments without an explicit keyword will result in an error or misinterpretation.\n",
      "  warnings.warn(\n"
     ]
    },
    {
     "data": {
      "text/plain": [
       "<AxesSubplot:xlabel='Class', ylabel='count'>"
      ]
     },
     "execution_count": 142,
     "metadata": {},
     "output_type": "execute_result"
    },
    {
     "data": {
      "image/png": "[encoded data removed]",
      "text/plain": [
       "<Figure size 432x288 with 1 Axes>"
      ]
     },
     "metadata": {
      "needs_background": "light"
     },
     "output_type": "display_data"
    }
   ],
   "source": [
    "#ploting the Class field values using seaborn\n",
    "sns.countplot(dataset['Class'])"
   ]
  },
  {
   "cell_type": "markdown",
   "id": "469cfe81",
   "metadata": {},
   "source": [
    "#### Above graph is an example for imbalanced dataset since zeor's count is higher than one's"
   ]
  },
  {
   "cell_type": "code",
   "execution_count": 143,
   "id": "6c7b72f7",
   "metadata": {},
   "outputs": [
    {
     "data": {
      "text/plain": [
       "284315"
      ]
     },
     "execution_count": 143,
     "metadata": {},
     "output_type": "execute_result"
    }
   ],
   "source": [
    "# finding count for non-fraudulent transaction\n",
    "len(dataset[dataset['Class']==0])"
   ]
  },
  {
   "cell_type": "code",
   "execution_count": 145,
   "id": "3065722d",
   "metadata": {},
   "outputs": [
    {
     "data": {
      "text/plain": [
       "492"
      ]
     },
     "execution_count": 145,
     "metadata": {},
     "output_type": "execute_result"
    }
   ],
   "source": [
    "# finding count for fraudulent transaction\n",
    "len(dataset[dataset['Class']==1])"
   ]
  },
  {
   "cell_type": "markdown",
   "id": "21b0fb9c",
   "metadata": {},
   "source": [
    "#### The difference in count of above results shows the dataset is imbalanced"
   ]
  },
  {
   "cell_type": "code",
   "execution_count": 146,
   "id": "2d608cb5",
   "metadata": {},
   "outputs": [],
   "source": [
    "# creating the feature matrix and dependent variable vector\n",
    "x = dataset.iloc[:,:-1].values # here it takes all rows and cloumn values except the last column\n",
    "y = dataset.iloc[:,-1].values # here it takes all rows and only last column values"
   ]
  },
  {
   "cell_type": "code",
   "execution_count": 147,
   "id": "07ba17e1",
   "metadata": {},
   "outputs": [
    {
     "data": {
      "text/plain": [
       "array([[ 0.00000000e+00, -1.35980713e+00, -7.27811730e-02, ...,\n",
       "         1.33558377e-01, -2.10530530e-02,  1.49620000e+02],\n",
       "       [ 0.00000000e+00,  1.19185711e+00,  2.66150712e-01, ...,\n",
       "        -8.98309900e-03,  1.47241690e-02,  2.69000000e+00],\n",
       "       [ 1.00000000e+00, -1.35835406e+00, -1.34016307e+00, ...,\n",
       "        -5.53527940e-02, -5.97518410e-02,  3.78660000e+02],\n",
       "       ...,\n",
       "       [ 1.72788000e+05,  1.91956501e+00, -3.01253846e-01, ...,\n",
       "         4.45477200e-03, -2.65608290e-02,  6.78800000e+01],\n",
       "       [ 1.72788000e+05, -2.40440050e-01,  5.30482513e-01, ...,\n",
       "         1.08820735e-01,  1.04532821e-01,  1.00000000e+01],\n",
       "       [ 1.72792000e+05, -5.33412522e-01, -1.89733337e-01, ...,\n",
       "        -2.41530900e-03,  1.36489140e-02,  2.17000000e+02]])"
      ]
     },
     "execution_count": 147,
     "metadata": {},
     "output_type": "execute_result"
    }
   ],
   "source": [
    "x"
   ]
  },
  {
   "cell_type": "code",
   "execution_count": 148,
   "id": "06e92687",
   "metadata": {},
   "outputs": [
    {
     "data": {
      "text/plain": [
       "array([0, 0, 0, ..., 0, 0, 0], dtype=int64)"
      ]
     },
     "execution_count": 148,
     "metadata": {},
     "output_type": "execute_result"
    }
   ],
   "source": [
    "y"
   ]
  },
  {
   "cell_type": "code",
   "execution_count": 17,
   "id": "22ecc17b",
   "metadata": {},
   "outputs": [],
   "source": [
    "# downloading the imblearn module from imbalanced-learn module\n",
    "#!pip install imbalanced-learn"
   ]
  },
  {
   "cell_type": "code",
   "execution_count": 149,
   "id": "c99fe20c",
   "metadata": {},
   "outputs": [],
   "source": [
    "# Converting the imbalanced data set into balanced dataset, here we are using over-sampling means \n",
    "# increasing the fraudulent transactions count to non-fraudulent transactions\n",
    "from imblearn.over_sampling import RandomOverSampler\n",
    "ros = RandomOverSampler(random_state=0)\n",
    "x_res, y_res = ros.fit_resample(x,y)"
   ]
  },
  {
   "cell_type": "code",
   "execution_count": 150,
   "id": "f3650955",
   "metadata": {},
   "outputs": [
    {
     "data": {
      "text/plain": [
       "(284807, 30)"
      ]
     },
     "execution_count": 150,
     "metadata": {},
     "output_type": "execute_result"
    }
   ],
   "source": [
    "# Old sample shape\n",
    "x.shape"
   ]
  },
  {
   "cell_type": "code",
   "execution_count": 152,
   "id": "b54f6bae",
   "metadata": {},
   "outputs": [
    {
     "data": {
      "text/plain": [
       "(568630, 30)"
      ]
     },
     "execution_count": 152,
     "metadata": {},
     "output_type": "execute_result"
    }
   ],
   "source": [
    "# resampled feature shape\n",
    "x_res.shape"
   ]
  },
  {
   "cell_type": "code",
   "execution_count": 154,
   "id": "196d7da2",
   "metadata": {},
   "outputs": [
    {
     "name": "stdout",
     "output_type": "stream",
     "text": [
      "Counter({0: 284315, 1: 492})\n",
      "Counter({0: 284315, 1: 284315})\n"
     ]
    }
   ],
   "source": [
    "# using counter to find how many times a value repeated from data in dictionary format\n",
    "from collections import Counter\n",
    "print(Counter(y))\n",
    "print(Counter(y_res))"
   ]
  },
  {
   "cell_type": "markdown",
   "id": "d60d0869",
   "metadata": {},
   "source": [
    "#### From above y_res we can understand that data has been changed to balanced dataset. because zero's and one's are having same count of values"
   ]
  },
  {
   "cell_type": "code",
   "execution_count": 155,
   "id": "fb9c6381",
   "metadata": {},
   "outputs": [],
   "source": [
    "# Dividing the dataset into train and test dataset\n",
    "from sklearn.model_selection import train_test_split\n",
    "x_train, x_test, y_train, y_test = train_test_split(x_res, y_res, test_size=0.3, random_state=42)"
   ]
  },
  {
   "cell_type": "code",
   "execution_count": 156,
   "id": "f4912760",
   "metadata": {},
   "outputs": [
    {
     "name": "stdout",
     "output_type": "stream",
     "text": [
      "shape of X_train is: (398041, 30)\n",
      "shape of y_train is: (398041,)\n"
     ]
    }
   ],
   "source": [
    "# checking the shape of x & y train\n",
    "print(\"shape of X_train is:\",x_train.shape)\n",
    "print(\"shape of y_train is:\",y_train.shape)"
   ]
  },
  {
   "cell_type": "code",
   "execution_count": 157,
   "id": "1c9a42c4",
   "metadata": {},
   "outputs": [
    {
     "name": "stdout",
     "output_type": "stream",
     "text": [
      "shape of X_test is: (170589, 30)\n",
      "shape of y_test is: (170589,)\n"
     ]
    }
   ],
   "source": [
    "# Checking the shape of x & y test\n",
    "print(\"shape of X_test is:\",x_test.shape)\n",
    "print(\"shape of y_test is:\",y_test.shape)"
   ]
  },
  {
   "cell_type": "code",
   "execution_count": 158,
   "id": "5464b028",
   "metadata": {},
   "outputs": [
    {
     "data": {
      "text/html": [
       "<style>#sk-container-id-1 {color: black;background-color: white;}#sk-container-id-1 pre{padding: 0;}#sk-container-id-1 div.sk-toggleable {background-color: white;}#sk-container-id-1 label.sk-toggleable__label {cursor: pointer;display: block;width: 100%;margin-bottom: 0;padding: 0.3em;box-sizing: border-box;text-align: center;}#sk-container-id-1 label.sk-toggleable__label-arrow:before {content: \"▸\";float: left;margin-right: 0.25em;color: #696969;}#sk-container-id-1 label.sk-toggleable__label-arrow:hover:before {color: black;}#sk-container-id-1 div.sk-estimator:hover label.sk-toggleable__label-arrow:before {color: black;}#sk-container-id-1 div.sk-toggleable__content {max-height: 0;max-width: 0;overflow: hidden;text-align: left;background-color: #f0f8ff;}#sk-container-id-1 div.sk-toggleable__content pre {margin: 0.2em;color: black;border-radius: 0.25em;background-color: #f0f8ff;}#sk-container-id-1 input.sk-toggleable__control:checked~div.sk-toggleable__content {max-height: 200px;max-width: 100%;overflow: auto;}#sk-container-id-1 input.sk-toggleable__control:checked~label.sk-toggleable__label-arrow:before {content: \"▾\";}#sk-container-id-1 div.sk-estimator input.sk-toggleable__control:checked~label.sk-toggleable__label {background-color: #d4ebff;}#sk-container-id-1 div.sk-label input.sk-toggleable__control:checked~label.sk-toggleable__label {background-color: #d4ebff;}#sk-container-id-1 input.sk-hidden--visually {border: 0;clip: rect(1px 1px 1px 1px);clip: rect(1px, 1px, 1px, 1px);height: 1px;margin: -1px;overflow: hidden;padding: 0;position: absolute;width: 1px;}#sk-container-id-1 div.sk-estimator {font-family: monospace;background-color: #f0f8ff;border: 1px dotted black;border-radius: 0.25em;box-sizing: border-box;margin-bottom: 0.5em;}#sk-container-id-1 div.sk-estimator:hover {background-color: #d4ebff;}#sk-container-id-1 div.sk-parallel-item::after {content: \"\";width: 100%;border-bottom: 1px solid gray;flex-grow: 1;}#sk-container-id-1 div.sk-label:hover label.sk-toggleable__label {background-color: #d4ebff;}#sk-container-id-1 div.sk-serial::before {content: \"\";position: absolute;border-left: 1px solid gray;box-sizing: border-box;top: 0;bottom: 0;left: 50%;z-index: 0;}#sk-container-id-1 div.sk-serial {display: flex;flex-direction: column;align-items: center;background-color: white;padding-right: 0.2em;padding-left: 0.2em;position: relative;}#sk-container-id-1 div.sk-item {position: relative;z-index: 1;}#sk-container-id-1 div.sk-parallel {display: flex;align-items: stretch;justify-content: center;background-color: white;position: relative;}#sk-container-id-1 div.sk-item::before, #sk-container-id-1 div.sk-parallel-item::before {content: \"\";position: absolute;border-left: 1px solid gray;box-sizing: border-box;top: 0;bottom: 0;left: 50%;z-index: -1;}#sk-container-id-1 div.sk-parallel-item {display: flex;flex-direction: column;z-index: 1;position: relative;background-color: white;}#sk-container-id-1 div.sk-parallel-item:first-child::after {align-self: flex-end;width: 50%;}#sk-container-id-1 div.sk-parallel-item:last-child::after {align-self: flex-start;width: 50%;}#sk-container-id-1 div.sk-parallel-item:only-child::after {width: 0;}#sk-container-id-1 div.sk-dashed-wrapped {border: 1px dashed gray;margin: 0 0.4em 0.5em 0.4em;box-sizing: border-box;padding-bottom: 0.4em;background-color: white;}#sk-container-id-1 div.sk-label label {font-family: monospace;font-weight: bold;display: inline-block;line-height: 1.2em;}#sk-container-id-1 div.sk-label-container {text-align: center;}#sk-container-id-1 div.sk-container {/* jupyter's `normalize.less` sets `[hidden] { display: none; }` but bootstrap.min.css set `[hidden] { display: none !important; }` so we also need the `!important` here to be able to override the default hidden behavior on the sphinx rendered scikit-learn.org. See: https://github.com/scikit-learn/scikit-learn/issues/21755 */display: inline-block !important;position: relative;}#sk-container-id-1 div.sk-text-repr-fallback {display: none;}</style><div id=\"sk-container-id-1\" class=\"sk-top-container\"><div class=\"sk-text-repr-fallback\"><pre>RandomForestClassifier(n_estimators=641, random_state=0)</pre><b>In a Jupyter environment, please rerun this cell to show the HTML representation or trust the notebook. <br />On GitHub, the HTML representation is unable to render, please try loading this page with nbviewer.org.</b></div><div class=\"sk-container\" hidden><div class=\"sk-item\"><div class=\"sk-estimator sk-toggleable\"><input class=\"sk-toggleable__control sk-hidden--visually\" id=\"sk-estimator-id-1\" type=\"checkbox\" checked><label for=\"sk-estimator-id-1\" class=\"sk-toggleable__label sk-toggleable__label-arrow\">RandomForestClassifier</label><div class=\"sk-toggleable__content\"><pre>RandomForestClassifier(n_estimators=641, random_state=0)</pre></div></div></div></div></div>"
      ],
      "text/plain": [
       "RandomForestClassifier(n_estimators=641, random_state=0)"
      ]
     },
     "execution_count": 158,
     "metadata": {},
     "output_type": "execute_result"
    }
   ],
   "source": [
    "# Using RandomForest Algoritm model, it consists of default 10 decision trees which called n_estimators\n",
    "from sklearn.ensemble import RandomForestClassifier\n",
    "classifier = RandomForestClassifier(n_estimators = 641, random_state= 0)\n",
    "classifier.fit(x_train, y_train)"
   ]
  },
  {
   "cell_type": "code",
   "execution_count": 176,
   "id": "2003630d",
   "metadata": {},
   "outputs": [],
   "source": [
    "# Now passing the test data to the model to predect the Class field data\n",
    "y_pred = classifier.predict(x_test)"
   ]
  },
  {
   "cell_type": "code",
   "execution_count": 177,
   "id": "93b7e0e7",
   "metadata": {},
   "outputs": [],
   "source": [
    "# now comparing how many errors/ difference in result between y_pred (model predicted data) and y_test(actual data)\n",
    "n_errors = (y_pred != y_test).sum()"
   ]
  },
  {
   "cell_type": "code",
   "execution_count": 178,
   "id": "4f25ec45",
   "metadata": {},
   "outputs": [
    {
     "data": {
      "text/plain": [
       "7"
      ]
     },
     "execution_count": 178,
     "metadata": {},
     "output_type": "execute_result"
    }
   ],
   "source": [
    "n_errors"
   ]
  },
  {
   "cell_type": "code",
   "execution_count": 180,
   "id": "10b358ff",
   "metadata": {},
   "outputs": [
    {
     "data": {
      "text/plain": [
       "(170589,)"
      ]
     },
     "execution_count": 180,
     "metadata": {},
     "output_type": "execute_result"
    }
   ],
   "source": [
    "y_pred.shape"
   ]
  },
  {
   "cell_type": "code",
   "execution_count": 181,
   "id": "865bcf6e",
   "metadata": {},
   "outputs": [
    {
     "data": {
      "text/plain": [
       "(170589,)"
      ]
     },
     "execution_count": 181,
     "metadata": {},
     "output_type": "execute_result"
    }
   ],
   "source": [
    "y_test.shape"
   ]
  },
  {
   "cell_type": "code",
   "execution_count": 183,
   "id": "50042111",
   "metadata": {},
   "outputs": [
    {
     "name": "stdout",
     "output_type": "stream",
     "text": [
      "Final accuracy of the model for the given test data is: 99.99589657011883%\n"
     ]
    },
    {
     "data": {
      "image/png": "[encoded data removed]",
      "text/plain": [
       "<Figure size 432x288 with 2 Axes>"
      ]
     },
     "metadata": {
      "needs_background": "light"
     },
     "output_type": "display_data"
    }
   ],
   "source": [
    "# finding the accuracy score and ploting the confusion matrix\n",
    "from sklearn.metrics import confusion_matrix, accuracy_score\n",
    "confmatrix = confusion_matrix(y_pred, y_test)\n",
    "sns.heatmap(confmatrix, annot= True)  # annot is used to print text on the map\n",
    "print(\"Final accuracy of the model for the given test data is: {0}%\".format(accuracy_score(y_test, y_pred)*100))"
   ]
  },
  {
   "cell_type": "code",
   "execution_count": 184,
   "id": "e3d8cb5f",
   "metadata": {},
   "outputs": [
    {
     "data": {
      "text/plain": [
       "0.9999180778728335"
      ]
     },
     "execution_count": 184,
     "metadata": {},
     "output_type": "execute_result"
    }
   ],
   "source": [
    "# finding the precision Scores means true_positives/ true_positives +false_positives\n",
    "from sklearn.metrics import precision_score\n",
    "precision_score(y_test, y_pred)"
   ]
  },
  {
   "cell_type": "code",
   "execution_count": 185,
   "id": "b370f606",
   "metadata": {},
   "outputs": [
    {
     "data": {
      "text/plain": [
       "1.0"
      ]
     },
     "execution_count": 185,
     "metadata": {},
     "output_type": "execute_result"
    }
   ],
   "source": [
    "# finding precision recall\n",
    "from sklearn.metrics import recall_score\n",
    "recall_score(y_test, y_pred)"
   ]
  },
  {
   "cell_type": "code",
   "execution_count": 186,
   "id": "ee9bf3a9",
   "metadata": {},
   "outputs": [
    {
     "name": "stdout",
     "output_type": "stream",
     "text": [
      "['v1', 'v2', 'v3', 'v4', 'v5', 'v6', 'v7', 'v8', 'v9', 'v10', 'v11', 'v12', 'v13', 'v14', 'v15', 'v16', 'v17', 'v18', 'v19', 'v20', 'v21', 'v22', 'v23', 'v24', 'v25', 'v26', 'v27', 'v28', 'v29', 'v30']\n"
     ]
    }
   ],
   "source": [
    "# This function will create the list of name's starts with 'V'\n",
    "def fun(num):\n",
    "    arr = []\n",
    "    for i in range(1,num):\n",
    "        x = 'v'+ str(i)\n",
    "        arr.append(x)\n",
    "    return arr\n",
    "list1 = fun(31)\n",
    "print(list1)"
   ]
  },
  {
   "cell_type": "code",
   "execution_count": 187,
   "id": "6d7e43d2",
   "metadata": {},
   "outputs": [
    {
     "data": {
      "text/html": [
       "<div>\n",
       "<style scoped>\n",
       "    .dataframe tbody tr th:only-of-type {\n",
       "        vertical-align: middle;\n",
       "    }\n",
       "\n",
       "    .dataframe tbody tr th {\n",
       "        vertical-align: top;\n",
       "    }\n",
       "\n",
       "    .dataframe thead th {\n",
       "        text-align: right;\n",
       "    }\n",
       "</style>\n",
       "<table border=\"1\" class=\"dataframe\">\n",
       "  <thead>\n",
       "    <tr style=\"text-align: right;\">\n",
       "      <th></th>\n",
       "      <th>v1</th>\n",
       "      <th>v2</th>\n",
       "      <th>v3</th>\n",
       "      <th>v4</th>\n",
       "      <th>v5</th>\n",
       "      <th>v6</th>\n",
       "      <th>v7</th>\n",
       "      <th>v8</th>\n",
       "      <th>v9</th>\n",
       "      <th>v10</th>\n",
       "      <th>...</th>\n",
       "      <th>v21</th>\n",
       "      <th>v22</th>\n",
       "      <th>v23</th>\n",
       "      <th>v24</th>\n",
       "      <th>v25</th>\n",
       "      <th>v26</th>\n",
       "      <th>v27</th>\n",
       "      <th>v28</th>\n",
       "      <th>v29</th>\n",
       "      <th>v30</th>\n",
       "    </tr>\n",
       "  </thead>\n",
       "  <tbody>\n",
       "    <tr>\n",
       "      <th>0</th>\n",
       "      <td>56650.0</td>\n",
       "      <td>-8.762083</td>\n",
       "      <td>2.791030</td>\n",
       "      <td>-7.682767</td>\n",
       "      <td>6.991214</td>\n",
       "      <td>-5.230695</td>\n",
       "      <td>-0.357388</td>\n",
       "      <td>-9.685621</td>\n",
       "      <td>1.749335</td>\n",
       "      <td>-4.495679</td>\n",
       "      <td>...</td>\n",
       "      <td>-0.460390</td>\n",
       "      <td>-0.090527</td>\n",
       "      <td>0.348590</td>\n",
       "      <td>0.051132</td>\n",
       "      <td>-0.415430</td>\n",
       "      <td>0.219665</td>\n",
       "      <td>0.330020</td>\n",
       "      <td>-0.028252</td>\n",
       "      <td>-0.156270</td>\n",
       "      <td>7.52</td>\n",
       "    </tr>\n",
       "    <tr>\n",
       "      <th>1</th>\n",
       "      <td>151972.0</td>\n",
       "      <td>-6.618211</td>\n",
       "      <td>3.835943</td>\n",
       "      <td>-6.316453</td>\n",
       "      <td>1.844111</td>\n",
       "      <td>-2.476892</td>\n",
       "      <td>-1.886718</td>\n",
       "      <td>-3.817495</td>\n",
       "      <td>0.613470</td>\n",
       "      <td>-1.482121</td>\n",
       "      <td>...</td>\n",
       "      <td>-0.953827</td>\n",
       "      <td>1.636622</td>\n",
       "      <td>0.038727</td>\n",
       "      <td>0.278218</td>\n",
       "      <td>0.786670</td>\n",
       "      <td>0.063895</td>\n",
       "      <td>0.154707</td>\n",
       "      <td>-2.042403</td>\n",
       "      <td>1.405141</td>\n",
       "      <td>57.73</td>\n",
       "    </tr>\n",
       "    <tr>\n",
       "      <th>2</th>\n",
       "      <td>4267.0</td>\n",
       "      <td>-0.851994</td>\n",
       "      <td>0.935553</td>\n",
       "      <td>2.188136</td>\n",
       "      <td>0.709286</td>\n",
       "      <td>0.178930</td>\n",
       "      <td>-0.349335</td>\n",
       "      <td>0.857609</td>\n",
       "      <td>-0.416252</td>\n",
       "      <td>1.066375</td>\n",
       "      <td>...</td>\n",
       "      <td>0.270933</td>\n",
       "      <td>-0.411022</td>\n",
       "      <td>-0.404762</td>\n",
       "      <td>-0.096893</td>\n",
       "      <td>0.404476</td>\n",
       "      <td>0.377388</td>\n",
       "      <td>0.344173</td>\n",
       "      <td>-0.000311</td>\n",
       "      <td>-0.125090</td>\n",
       "      <td>30.53</td>\n",
       "    </tr>\n",
       "    <tr>\n",
       "      <th>3</th>\n",
       "      <td>77182.0</td>\n",
       "      <td>-1.410852</td>\n",
       "      <td>2.268271</td>\n",
       "      <td>-2.297554</td>\n",
       "      <td>1.871331</td>\n",
       "      <td>0.248957</td>\n",
       "      <td>-1.208799</td>\n",
       "      <td>-1.358648</td>\n",
       "      <td>1.102916</td>\n",
       "      <td>-1.317364</td>\n",
       "      <td>...</td>\n",
       "      <td>0.058063</td>\n",
       "      <td>0.155381</td>\n",
       "      <td>-0.614880</td>\n",
       "      <td>-0.196126</td>\n",
       "      <td>-0.464376</td>\n",
       "      <td>0.118473</td>\n",
       "      <td>-0.484537</td>\n",
       "      <td>0.373596</td>\n",
       "      <td>0.187657</td>\n",
       "      <td>1.00</td>\n",
       "    </tr>\n",
       "    <tr>\n",
       "      <th>4</th>\n",
       "      <td>97121.0</td>\n",
       "      <td>-17.976266</td>\n",
       "      <td>12.864989</td>\n",
       "      <td>-19.575066</td>\n",
       "      <td>11.345120</td>\n",
       "      <td>-13.998646</td>\n",
       "      <td>-0.354900</td>\n",
       "      <td>-23.783470</td>\n",
       "      <td>-4.872353</td>\n",
       "      <td>-8.504285</td>\n",
       "      <td>...</td>\n",
       "      <td>2.419921</td>\n",
       "      <td>-4.300432</td>\n",
       "      <td>2.865772</td>\n",
       "      <td>1.489302</td>\n",
       "      <td>0.386039</td>\n",
       "      <td>-0.232392</td>\n",
       "      <td>0.413827</td>\n",
       "      <td>-3.255981</td>\n",
       "      <td>-0.538963</td>\n",
       "      <td>8.64</td>\n",
       "    </tr>\n",
       "  </tbody>\n",
       "</table>\n",
       "<p>5 rows × 30 columns</p>\n",
       "</div>"
      ],
      "text/plain": [
       "         v1         v2         v3         v4         v5         v6        v7  \\\n",
       "0   56650.0  -8.762083   2.791030  -7.682767   6.991214  -5.230695 -0.357388   \n",
       "1  151972.0  -6.618211   3.835943  -6.316453   1.844111  -2.476892 -1.886718   \n",
       "2    4267.0  -0.851994   0.935553   2.188136   0.709286   0.178930 -0.349335   \n",
       "3   77182.0  -1.410852   2.268271  -2.297554   1.871331   0.248957 -1.208799   \n",
       "4   97121.0 -17.976266  12.864989 -19.575066  11.345120 -13.998646 -0.354900   \n",
       "\n",
       "          v8        v9       v10  ...       v21       v22       v23       v24  \\\n",
       "0  -9.685621  1.749335 -4.495679  ... -0.460390 -0.090527  0.348590  0.051132   \n",
       "1  -3.817495  0.613470 -1.482121  ... -0.953827  1.636622  0.038727  0.278218   \n",
       "2   0.857609 -0.416252  1.066375  ...  0.270933 -0.411022 -0.404762 -0.096893   \n",
       "3  -1.358648  1.102916 -1.317364  ...  0.058063  0.155381 -0.614880 -0.196126   \n",
       "4 -23.783470 -4.872353 -8.504285  ...  2.419921 -4.300432  2.865772  1.489302   \n",
       "\n",
       "        v25       v26       v27       v28       v29    v30  \n",
       "0 -0.415430  0.219665  0.330020 -0.028252 -0.156270   7.52  \n",
       "1  0.786670  0.063895  0.154707 -2.042403  1.405141  57.73  \n",
       "2  0.404476  0.377388  0.344173 -0.000311 -0.125090  30.53  \n",
       "3 -0.464376  0.118473 -0.484537  0.373596  0.187657   1.00  \n",
       "4  0.386039 -0.232392  0.413827 -3.255981 -0.538963   8.64  \n",
       "\n",
       "[5 rows x 30 columns]"
      ]
     },
     "execution_count": 187,
     "metadata": {},
     "output_type": "execute_result"
    }
   ],
   "source": [
    "# converting the numpy n-dimentional array into pandas dataframe\n",
    "df_x_test = pd.DataFrame(x_test, columns = list1)\n",
    "df_x_test.head()"
   ]
  },
  {
   "cell_type": "code",
   "execution_count": 188,
   "id": "97b212d1",
   "metadata": {},
   "outputs": [
    {
     "data": {
      "text/html": [
       "<div>\n",
       "<style scoped>\n",
       "    .dataframe tbody tr th:only-of-type {\n",
       "        vertical-align: middle;\n",
       "    }\n",
       "\n",
       "    .dataframe tbody tr th {\n",
       "        vertical-align: top;\n",
       "    }\n",
       "\n",
       "    .dataframe thead th {\n",
       "        text-align: right;\n",
       "    }\n",
       "</style>\n",
       "<table border=\"1\" class=\"dataframe\">\n",
       "  <thead>\n",
       "    <tr style=\"text-align: right;\">\n",
       "      <th></th>\n",
       "      <th>class_y_actual</th>\n",
       "    </tr>\n",
       "  </thead>\n",
       "  <tbody>\n",
       "    <tr>\n",
       "      <th>0</th>\n",
       "      <td>1</td>\n",
       "    </tr>\n",
       "    <tr>\n",
       "      <th>1</th>\n",
       "      <td>1</td>\n",
       "    </tr>\n",
       "    <tr>\n",
       "      <th>2</th>\n",
       "      <td>0</td>\n",
       "    </tr>\n",
       "    <tr>\n",
       "      <th>3</th>\n",
       "      <td>1</td>\n",
       "    </tr>\n",
       "    <tr>\n",
       "      <th>4</th>\n",
       "      <td>1</td>\n",
       "    </tr>\n",
       "  </tbody>\n",
       "</table>\n",
       "</div>"
      ],
      "text/plain": [
       "   class_y_actual\n",
       "0               1\n",
       "1               1\n",
       "2               0\n",
       "3               1\n",
       "4               1"
      ]
     },
     "execution_count": 188,
     "metadata": {},
     "output_type": "execute_result"
    }
   ],
   "source": [
    "df_y_test = pd.DataFrame(y_test, columns = ['class_y_actual'])\n",
    "df_y_test.head()"
   ]
  },
  {
   "cell_type": "code",
   "execution_count": 190,
   "id": "3921842a",
   "metadata": {},
   "outputs": [
    {
     "data": {
      "text/html": [
       "<div>\n",
       "<style scoped>\n",
       "    .dataframe tbody tr th:only-of-type {\n",
       "        vertical-align: middle;\n",
       "    }\n",
       "\n",
       "    .dataframe tbody tr th {\n",
       "        vertical-align: top;\n",
       "    }\n",
       "\n",
       "    .dataframe thead th {\n",
       "        text-align: right;\n",
       "    }\n",
       "</style>\n",
       "<table border=\"1\" class=\"dataframe\">\n",
       "  <thead>\n",
       "    <tr style=\"text-align: right;\">\n",
       "      <th></th>\n",
       "      <th>class_y_model_predection</th>\n",
       "    </tr>\n",
       "  </thead>\n",
       "  <tbody>\n",
       "    <tr>\n",
       "      <th>0</th>\n",
       "      <td>1</td>\n",
       "    </tr>\n",
       "    <tr>\n",
       "      <th>1</th>\n",
       "      <td>1</td>\n",
       "    </tr>\n",
       "    <tr>\n",
       "      <th>2</th>\n",
       "      <td>0</td>\n",
       "    </tr>\n",
       "    <tr>\n",
       "      <th>3</th>\n",
       "      <td>1</td>\n",
       "    </tr>\n",
       "    <tr>\n",
       "      <th>4</th>\n",
       "      <td>1</td>\n",
       "    </tr>\n",
       "  </tbody>\n",
       "</table>\n",
       "</div>"
      ],
      "text/plain": [
       "   class_y_model_predection\n",
       "0                         1\n",
       "1                         1\n",
       "2                         0\n",
       "3                         1\n",
       "4                         1"
      ]
     },
     "execution_count": 190,
     "metadata": {},
     "output_type": "execute_result"
    }
   ],
   "source": [
    "df_y_pred = pd.DataFrame(y_pred, columns = ['class_y_model_predection'])\n",
    "df_y_pred.head()"
   ]
  },
  {
   "cell_type": "code",
   "execution_count": 191,
   "id": "6635870e",
   "metadata": {},
   "outputs": [],
   "source": [
    "df_x_test.reset_index(drop=True, inplace=True)\n",
    "df_y_test.reset_index(drop=True, inplace=True)\n",
    "df_y_pred.reset_index(drop=True, inplace=True)"
   ]
  },
  {
   "cell_type": "code",
   "execution_count": 192,
   "id": "ba983e79",
   "metadata": {},
   "outputs": [],
   "source": [
    "frames = [df_x_test,df_y_test,df_y_pred]\n",
    "df_f= pd.concat(frames, axis=1)"
   ]
  },
  {
   "cell_type": "code",
   "execution_count": 194,
   "id": "dbe225c0",
   "metadata": {},
   "outputs": [
    {
     "data": {
      "text/html": [
       "<div>\n",
       "<style scoped>\n",
       "    .dataframe tbody tr th:only-of-type {\n",
       "        vertical-align: middle;\n",
       "    }\n",
       "\n",
       "    .dataframe tbody tr th {\n",
       "        vertical-align: top;\n",
       "    }\n",
       "\n",
       "    .dataframe thead th {\n",
       "        text-align: right;\n",
       "    }\n",
       "</style>\n",
       "<table border=\"1\" class=\"dataframe\">\n",
       "  <thead>\n",
       "    <tr style=\"text-align: right;\">\n",
       "      <th></th>\n",
       "      <th>v1</th>\n",
       "      <th>v2</th>\n",
       "      <th>v3</th>\n",
       "      <th>v4</th>\n",
       "      <th>v5</th>\n",
       "      <th>v6</th>\n",
       "      <th>v7</th>\n",
       "      <th>v8</th>\n",
       "      <th>v9</th>\n",
       "      <th>v10</th>\n",
       "      <th>...</th>\n",
       "      <th>v23</th>\n",
       "      <th>v24</th>\n",
       "      <th>v25</th>\n",
       "      <th>v26</th>\n",
       "      <th>v27</th>\n",
       "      <th>v28</th>\n",
       "      <th>v29</th>\n",
       "      <th>v30</th>\n",
       "      <th>class_y_actual</th>\n",
       "      <th>class_y_model_predection</th>\n",
       "    </tr>\n",
       "  </thead>\n",
       "  <tbody>\n",
       "    <tr>\n",
       "      <th>0</th>\n",
       "      <td>56650.0</td>\n",
       "      <td>-8.762083</td>\n",
       "      <td>2.791030</td>\n",
       "      <td>-7.682767</td>\n",
       "      <td>6.991214</td>\n",
       "      <td>-5.230695</td>\n",
       "      <td>-0.357388</td>\n",
       "      <td>-9.685621</td>\n",
       "      <td>1.749335</td>\n",
       "      <td>-4.495679</td>\n",
       "      <td>...</td>\n",
       "      <td>0.348590</td>\n",
       "      <td>0.051132</td>\n",
       "      <td>-0.415430</td>\n",
       "      <td>0.219665</td>\n",
       "      <td>0.330020</td>\n",
       "      <td>-0.028252</td>\n",
       "      <td>-0.156270</td>\n",
       "      <td>7.52</td>\n",
       "      <td>1</td>\n",
       "      <td>1</td>\n",
       "    </tr>\n",
       "    <tr>\n",
       "      <th>1</th>\n",
       "      <td>151972.0</td>\n",
       "      <td>-6.618211</td>\n",
       "      <td>3.835943</td>\n",
       "      <td>-6.316453</td>\n",
       "      <td>1.844111</td>\n",
       "      <td>-2.476892</td>\n",
       "      <td>-1.886718</td>\n",
       "      <td>-3.817495</td>\n",
       "      <td>0.613470</td>\n",
       "      <td>-1.482121</td>\n",
       "      <td>...</td>\n",
       "      <td>0.038727</td>\n",
       "      <td>0.278218</td>\n",
       "      <td>0.786670</td>\n",
       "      <td>0.063895</td>\n",
       "      <td>0.154707</td>\n",
       "      <td>-2.042403</td>\n",
       "      <td>1.405141</td>\n",
       "      <td>57.73</td>\n",
       "      <td>1</td>\n",
       "      <td>1</td>\n",
       "    </tr>\n",
       "    <tr>\n",
       "      <th>2</th>\n",
       "      <td>4267.0</td>\n",
       "      <td>-0.851994</td>\n",
       "      <td>0.935553</td>\n",
       "      <td>2.188136</td>\n",
       "      <td>0.709286</td>\n",
       "      <td>0.178930</td>\n",
       "      <td>-0.349335</td>\n",
       "      <td>0.857609</td>\n",
       "      <td>-0.416252</td>\n",
       "      <td>1.066375</td>\n",
       "      <td>...</td>\n",
       "      <td>-0.404762</td>\n",
       "      <td>-0.096893</td>\n",
       "      <td>0.404476</td>\n",
       "      <td>0.377388</td>\n",
       "      <td>0.344173</td>\n",
       "      <td>-0.000311</td>\n",
       "      <td>-0.125090</td>\n",
       "      <td>30.53</td>\n",
       "      <td>0</td>\n",
       "      <td>0</td>\n",
       "    </tr>\n",
       "    <tr>\n",
       "      <th>3</th>\n",
       "      <td>77182.0</td>\n",
       "      <td>-1.410852</td>\n",
       "      <td>2.268271</td>\n",
       "      <td>-2.297554</td>\n",
       "      <td>1.871331</td>\n",
       "      <td>0.248957</td>\n",
       "      <td>-1.208799</td>\n",
       "      <td>-1.358648</td>\n",
       "      <td>1.102916</td>\n",
       "      <td>-1.317364</td>\n",
       "      <td>...</td>\n",
       "      <td>-0.614880</td>\n",
       "      <td>-0.196126</td>\n",
       "      <td>-0.464376</td>\n",
       "      <td>0.118473</td>\n",
       "      <td>-0.484537</td>\n",
       "      <td>0.373596</td>\n",
       "      <td>0.187657</td>\n",
       "      <td>1.00</td>\n",
       "      <td>1</td>\n",
       "      <td>1</td>\n",
       "    </tr>\n",
       "    <tr>\n",
       "      <th>4</th>\n",
       "      <td>97121.0</td>\n",
       "      <td>-17.976266</td>\n",
       "      <td>12.864989</td>\n",
       "      <td>-19.575066</td>\n",
       "      <td>11.345120</td>\n",
       "      <td>-13.998646</td>\n",
       "      <td>-0.354900</td>\n",
       "      <td>-23.783470</td>\n",
       "      <td>-4.872353</td>\n",
       "      <td>-8.504285</td>\n",
       "      <td>...</td>\n",
       "      <td>2.865772</td>\n",
       "      <td>1.489302</td>\n",
       "      <td>0.386039</td>\n",
       "      <td>-0.232392</td>\n",
       "      <td>0.413827</td>\n",
       "      <td>-3.255981</td>\n",
       "      <td>-0.538963</td>\n",
       "      <td>8.64</td>\n",
       "      <td>1</td>\n",
       "      <td>1</td>\n",
       "    </tr>\n",
       "  </tbody>\n",
       "</table>\n",
       "<p>5 rows × 32 columns</p>\n",
       "</div>"
      ],
      "text/plain": [
       "         v1         v2         v3         v4         v5         v6        v7  \\\n",
       "0   56650.0  -8.762083   2.791030  -7.682767   6.991214  -5.230695 -0.357388   \n",
       "1  151972.0  -6.618211   3.835943  -6.316453   1.844111  -2.476892 -1.886718   \n",
       "2    4267.0  -0.851994   0.935553   2.188136   0.709286   0.178930 -0.349335   \n",
       "3   77182.0  -1.410852   2.268271  -2.297554   1.871331   0.248957 -1.208799   \n",
       "4   97121.0 -17.976266  12.864989 -19.575066  11.345120 -13.998646 -0.354900   \n",
       "\n",
       "          v8        v9       v10  ...       v23       v24       v25       v26  \\\n",
       "0  -9.685621  1.749335 -4.495679  ...  0.348590  0.051132 -0.415430  0.219665   \n",
       "1  -3.817495  0.613470 -1.482121  ...  0.038727  0.278218  0.786670  0.063895   \n",
       "2   0.857609 -0.416252  1.066375  ... -0.404762 -0.096893  0.404476  0.377388   \n",
       "3  -1.358648  1.102916 -1.317364  ... -0.614880 -0.196126 -0.464376  0.118473   \n",
       "4 -23.783470 -4.872353 -8.504285  ...  2.865772  1.489302  0.386039 -0.232392   \n",
       "\n",
       "        v27       v28       v29    v30  class_y_actual  \\\n",
       "0  0.330020 -0.028252 -0.156270   7.52               1   \n",
       "1  0.154707 -2.042403  1.405141  57.73               1   \n",
       "2  0.344173 -0.000311 -0.125090  30.53               0   \n",
       "3 -0.484537  0.373596  0.187657   1.00               1   \n",
       "4  0.413827 -3.255981 -0.538963   8.64               1   \n",
       "\n",
       "   class_y_model_predection  \n",
       "0                         1  \n",
       "1                         1  \n",
       "2                         0  \n",
       "3                         1  \n",
       "4                         1  \n",
       "\n",
       "[5 rows x 32 columns]"
      ]
     },
     "execution_count": 194,
     "metadata": {},
     "output_type": "execute_result"
    }
   ],
   "source": [
    "df_f.head()"
   ]
  },
  {
   "cell_type": "code",
   "execution_count": 195,
   "id": "f41ff5a5",
   "metadata": {},
   "outputs": [],
   "source": [
    "# color_rule function will add the colours to the cells and to_excel function will export the data into current directory\n",
    "def color_rule(val):\n",
    "    return ['background-color: red' if x > 0 else 'background-color: green' for x in val]\n",
    "\n",
    "html_column = df_f.style.apply(color_rule, axis=1, subset=['class_y_model_predection'])\n",
    "\n",
    "html_column.to_excel('model_generated_results.xlsx', engine='openpyxl')\n",
    "\n",
    "html_column"
   ]
  },
  {
   "cell_type": "markdown",
   "id": "d8a1584a",
   "metadata": {},
   "source": [
    "### Goto the current directory, where code file has saved to find the exported model generated result file i.e., <model_generated_results.xlsx>"
   ]
  },
  {
   "cell_type": "code",
   "execution_count": null,
   "id": "7d633396",
   "metadata": {},
   "outputs": [],
   "source": []
  }
 ],
 "metadata": {
  "kernelspec": {
   "display_name": "Python 3 (ipykernel)",
   "language": "python",
   "name": "python3"
  },
  "language_info": {
   "codemirror_mode": {
    "name": "ipython",
    "version": 3
   },
   "file_extension": ".py",
   "mimetype": "text/x-python",
   "name": "python",
   "nbconvert_exporter": "python",
   "pygments_lexer": "ipython3",
   "version": "3.9.7"
  }
 },
 "nbformat": 4,
 "nbformat_minor": 5
}
